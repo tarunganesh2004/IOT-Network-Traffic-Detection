{
 "cells": [
  {
   "cell_type": "code",
   "execution_count": null,
   "metadata": {},
   "outputs": [],
   "source": [
    "import numpy as np\n",
    "import pandas as pd\n",
    "import matplotlib.pyplot as plt\n",
    "import joblib\n",
    "from sklearn.model_selection import train_test_split\n",
    "from sklearn.preprocessing import StandardScaler, OneHotEncoder, LabelEncoder\n",
    "from sklearn.linear_model import SGDClassifier\n",
    "from sklearn.calibration import CalibratedClassifierCV\n",
    "from sklearn.metrics import accuracy_score, precision_recall_curve, roc_curve, auc\n",
    "\n",
    "# ignore warnings in the output\n",
    "import warnings\n",
    "\n",
    "warnings.filterwarnings(\"ignore\")"
   ]
  },
  {
   "cell_type": "code",
   "execution_count": null,
   "metadata": {},
   "outputs": [],
   "source": [
    "# 🔹 Step 1: Load Data\n",
    "df = pd.read_csv(\"IotFinalDataset.csv\")\n",
    "X = df.drop(columns=[\"Label\"])  # Features\n",
    "y = df[\"Label\"]  # Target"
   ]
  },
  {
   "cell_type": "code",
   "execution_count": null,
   "metadata": {},
   "outputs": [],
   "source": [
    "# 🔹 Step 2: Encode Class Labels\n",
    "label_encoder = LabelEncoder()\n",
    "y_encoded = label_encoder.fit_transform(y)  # Converts labels into numbers"
   ]
  },
  {
   "cell_type": "code",
   "execution_count": null,
   "metadata": {},
   "outputs": [],
   "source": [
    "# 🔹 Step 3: Train-Test Split\n",
    "X_train, X_test, y_train, y_test = train_test_split(\n",
    "    X, y_encoded, test_size=0.2, random_state=42, stratify=y_encoded\n",
    ")"
   ]
  },
  {
   "cell_type": "code",
   "execution_count": null,
   "metadata": {},
   "outputs": [],
   "source": [
    "# 🔹 Step 4: Scale Features\n",
    "scaler = StandardScaler()\n",
    "X_train_scaled = scaler.fit_transform(X_train)\n",
    "X_test_scaled = scaler.transform(X_test)"
   ]
  },
  {
   "cell_type": "code",
   "execution_count": null,
   "metadata": {},
   "outputs": [],
   "source": [
    "# 🔹 Step 5: One-Hot Encode y_train and y_test\n",
    "encoder = OneHotEncoder(sparse_output=False)\n",
    "y_train_bin = encoder.fit_transform(y_train.reshape(-1, 1))\n",
    "y_test_bin = encoder.transform(y_test.reshape(-1, 1))"
   ]
  },
  {
   "cell_type": "code",
   "execution_count": null,
   "metadata": {},
   "outputs": [],
   "source": [
    "# 🔹 Step 6: Train Model with `CalibratedClassifierCV`\n",
    "sgd = SGDClassifier(\n",
    "    loss=\"log_loss\", random_state=42\n",
    ")  # Use 'log_loss' for probability support\n",
    "sgd_calibrated = CalibratedClassifierCV(sgd, cv=5)  # Enables probability estimation\n",
    "sgd_calibrated.fit(X_train_scaled, y_train)"
   ]
  },
  {
   "cell_type": "code",
   "execution_count": null,
   "metadata": {},
   "outputs": [],
   "source": [
    "# 🔹 Step 7: Predict and Evaluate\n",
    "y_pred = sgd_calibrated.predict(X_test_scaled)\n",
    "accuracy = accuracy_score(y_test, y_pred)\n",
    "print(f\"Model Accuracy: {accuracy:.4f}\")"
   ]
  },
  {
   "cell_type": "code",
   "execution_count": null,
   "metadata": {},
   "outputs": [],
   "source": [
    "# 🔹 Step 8: Predict Probabilities for Precision-Recall & ROC Curves\n",
    "y_prob = sgd_calibrated.predict_proba(X_test_scaled)\n",
    "\n",
    "for i, class_name in enumerate(label_encoder.classes_):\n",
    "    precision, recall, _ = precision_recall_curve(y_test_bin[:, i], y_prob[:, i])\n",
    "    fpr, tpr, _ = roc_curve(y_test_bin[:, i], y_prob[:, i])\n",
    "    roc_auc = auc(fpr, tpr)\n",
    "\n",
    "    # 📊 Precision-Recall Curve\n",
    "    plt.figure()\n",
    "    plt.plot(recall, precision, marker=\".\", label=f\"Class {class_name}\")\n",
    "    plt.xlabel(\"Recall\")\n",
    "    plt.ylabel(\"Precision\")\n",
    "    plt.title(f\"Precision-Recall Curve ({class_name})\")\n",
    "    plt.legend()\n",
    "    plt.show()\n",
    "\n",
    "    # 📊 ROC Curve\n",
    "    plt.figure()\n",
    "    plt.plot(fpr, tpr, marker=\".\", label=f\"Class {class_name} (AUC = {roc_auc:.2f})\")\n",
    "    plt.xlabel(\"False Positive Rate\")\n",
    "    plt.ylabel(\"True Positive Rate\")\n",
    "    plt.title(f\"ROC Curve ({class_name})\")\n",
    "    plt.legend()\n",
    "    plt.show()"
   ]
  },
  {
   "cell_type": "code",
   "execution_count": null,
   "metadata": {},
   "outputs": [],
   "source": [
    "# 🔹 Step 9: Save Model, Scaler, and Label Encoder\n",
    "joblib.dump(sgd_calibrated, \"sgd_model.pkl\")\n",
    "joblib.dump(scaler, \"scaler.pkl\")\n",
    "joblib.dump(label_encoder, \"label_encoder.pkl\")\n",
    "\n",
    "print(\"Model, scaler, and label encoder saved successfully!\")"
   ]
  },
  {
   "cell_type": "code",
   "execution_count": null,
   "metadata": {},
   "outputs": [],
   "source": [
    "# 🔹 Step 10: Feature Importance Visualization\n",
    "feature_importance = np.abs(sgd_calibrated.base_estimator_.coef_).mean(\n",
    "    axis=0\n",
    ")  # Get mean importance per feature\n",
    "feature_names = X.columns  # Get feature names\n",
    "\n",
    "# Sort by importance\n",
    "sorted_idx = np.argsort(feature_importance)[::-1]\n",
    "sorted_features = feature_names[sorted_idx]\n",
    "sorted_importance = feature_importance[sorted_idx]\n",
    "\n",
    "# 📊 Plot Feature Importance\n",
    "plt.figure(figsize=(12, 6))\n",
    "plt.barh(\n",
    "    sorted_features[:10], sorted_importance[:10], color=\"skyblue\"\n",
    ")  # Top 10 features\n",
    "plt.xlabel(\"Feature Importance (Absolute Coefficients)\")\n",
    "plt.ylabel(\"Feature Names\")\n",
    "plt.title(\"Top 10 Important Features (SGD Classifier)\")\n",
    "plt.gca().invert_yaxis()  # Reverse order to match sorted ranking\n",
    "plt.show()\n"
   ]
  }
 ],
 "metadata": {
  "kernelspec": {
   "display_name": "Python 3",
   "language": "python",
   "name": "python3"
  },
  "language_info": {
   "name": "python",
   "version": "3.11.5"
  }
 },
 "nbformat": 4,
 "nbformat_minor": 2
}
