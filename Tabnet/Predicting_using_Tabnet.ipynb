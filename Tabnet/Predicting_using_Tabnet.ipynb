{
 "cells": [
  {
   "cell_type": "code",
   "execution_count": 3,
   "metadata": {
    "execution": {
     "iopub.execute_input": "2025-03-07T15:37:11.506243Z",
     "iopub.status.busy": "2025-03-07T15:37:11.505900Z",
     "iopub.status.idle": "2025-03-07T15:37:15.991180Z",
     "shell.execute_reply": "2025-03-07T15:37:15.990156Z",
     "shell.execute_reply.started": "2025-03-07T15:37:11.506216Z"
    },
    "trusted": true
   },
   "outputs": [],
   "source": [
    "import numpy as np\n",
    "import joblib\n",
    "from pytorch_tabnet.tab_model import TabNetClassifier"
   ]
  },
  {
   "cell_type": "code",
   "execution_count": 7,
   "metadata": {},
   "outputs": [],
   "source": [
    "import warnings\n",
    "warnings.filterwarnings(\"ignore\")"
   ]
  },
  {
   "cell_type": "code",
   "execution_count": 8,
   "metadata": {
    "_cell_guid": "b1076dfc-b9ad-4769-8c92-a6c4dae69d19",
    "_uuid": "8f2839f25d086af736a60e9eeb907d3b93b6e0e5",
    "execution": {
     "iopub.execute_input": "2025-03-07T15:38:22.952675Z",
     "iopub.status.busy": "2025-03-07T15:38:22.952364Z",
     "iopub.status.idle": "2025-03-07T15:38:23.220862Z",
     "shell.execute_reply": "2025-03-07T15:38:23.219793Z",
     "shell.execute_reply.started": "2025-03-07T15:38:22.952652Z"
    },
    "trusted": true
   },
   "outputs": [],
   "source": [
    "# Load the trained TabNet model\n",
    "tabnet_model = joblib.load(\"tabnet_model.pkl\")\n",
    "\n",
    "# Load the saved StandardScaler\n",
    "scaler = joblib.load(\"scaler.pkl\")\n",
    "\n",
    "# Load the Label Encoder (if needed, to decode class predictions)\n",
    "label_encoder = joblib.load(\"label_encoder.pkl\")  # If you saved it"
   ]
  },
  {
   "cell_type": "code",
   "execution_count": 9,
   "metadata": {
    "execution": {
     "iopub.execute_input": "2025-03-07T15:40:50.341400Z",
     "iopub.status.busy": "2025-03-07T15:40:50.341028Z",
     "iopub.status.idle": "2025-03-07T15:40:50.347267Z",
     "shell.execute_reply": "2025-03-07T15:40:50.346141Z",
     "shell.execute_reply.started": "2025-03-07T15:40:50.341370Z"
    },
    "trusted": true
   },
   "outputs": [],
   "source": [
    "# Define the feature names (MUST match training order)\n",
    "feature_names = [\"Protocol\", \"Flow IAT Mean\", \"FIN Flag Count\", \"RST Flag Count\",\n",
    "                 \"Down/Up Ratio\", \"Fwd Seg Size Min\", \"Idle Max\", \"Connection Type\"]\n",
    "\n",
    "# Custom input values (ensure they match feature order)\n",
    "custom_row = np.array([[6\t,3026,\t0\t,1,\t1,\t40,\t1.69868E+15,\t0]])\n",
    "\n",
    "\n",
    "# Standardize the custom row using the same scaler\n",
    "custom_row_scaled = scaler.transform(custom_row)"
   ]
  },
  {
   "cell_type": "code",
   "execution_count": 10,
   "metadata": {
    "execution": {
     "iopub.execute_input": "2025-03-07T15:40:51.232287Z",
     "iopub.status.busy": "2025-03-07T15:40:51.231911Z",
     "iopub.status.idle": "2025-03-07T15:40:51.256432Z",
     "shell.execute_reply": "2025-03-07T15:40:51.255496Z",
     "shell.execute_reply.started": "2025-03-07T15:40:51.232255Z"
    },
    "trusted": true
   },
   "outputs": [
    {
     "name": "stdout",
     "output_type": "stream",
     "text": [
      "Predicted Class: Vulnerability Scan\n",
      "Class Probabilities: [1.2655984e-02 1.2191297e-43 2.8314566e-34 2.0970038e-27 1.7637846e-03\n",
      " 4.6113532e-04 5.5185526e-11 0.0000000e+00 2.1685959e-10 4.2739603e-43\n",
      " 9.8511904e-01]\n"
     ]
    }
   ],
   "source": [
    "# Predict class label\n",
    "predicted_label = tabnet_model.predict(custom_row_scaled)[0]\n",
    "\n",
    "# Predict probabilities\n",
    "predicted_probs = tabnet_model.predict_proba(custom_row_scaled)[0]\n",
    "\n",
    "# Convert numerical prediction back to original label (if LabelEncoder is available)\n",
    "decoded_label = label_encoder.inverse_transform([predicted_label])[0]\n",
    "\n",
    "# Display results\n",
    "print(f\"Predicted Class: {decoded_label}\")\n",
    "print(f\"Class Probabilities: {predicted_probs}\")"
   ]
  },
  {
   "cell_type": "code",
   "execution_count": null,
   "metadata": {
    "trusted": true
   },
   "outputs": [],
   "source": []
  }
 ],
 "metadata": {
  "kernelspec": {
   "display_name": "Python 3",
   "language": "python",
   "name": "python3"
  },
  "language_info": {
   "codemirror_mode": {
    "name": "ipython",
    "version": 3
   },
   "file_extension": ".py",
   "mimetype": "text/x-python",
   "name": "python",
   "nbconvert_exporter": "python",
   "pygments_lexer": "ipython3",
   "version": "3.11.5"
  }
 },
 "nbformat": 4,
 "nbformat_minor": 4
}
